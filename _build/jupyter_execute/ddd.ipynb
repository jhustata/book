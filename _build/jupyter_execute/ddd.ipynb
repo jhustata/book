{
 "cells": [
  {
   "attachments": {},
   "cell_type": "markdown",
   "metadata": {},
   "source": [
    "# rnormal()"
   ]
  },
  {
   "attachments": {},
   "cell_type": "markdown",
   "metadata": {},
   "source": [
    "### Twoway plot of grades from 2021/2022\n",
    "\n",
    "![](grade_34060071_general.png)"
   ]
  },
  {
   "attachments": {},
   "cell_type": "markdown",
   "metadata": {},
   "source": [
    "#### You can reproduce this plot"
   ]
  },
  {
   "attachments": {},
   "cell_type": "markdown",
   "metadata": {},
   "source": [
    "```stata\n",
    "\n",
    "# Extrapoints for someone to render this in Python with interactive graphics!\n",
    "\n",
    "#delimit ;\n",
    "twoway \n",
    "    scatter  \n",
    "\t     final degree , \n",
    "\t         col(blue) \n",
    "\t\t\t mcolor(%20) \n",
    "\t\t\t jitter(3) || \n",
    "\trcap \n",
    "\t     y1lb y1ub degree, \n",
    "\t\t     col(blue) ||   \n",
    "\tdot  \n",
    "\t     y1m degree, \n",
    "\t\t col(blue) \n",
    "\t\t msize(2)  \n",
    "\t\t\tlegend(off ) \n",
    "\t\t\txlab(1 \"MHS\" \n",
    "\t\t\t     2 \"MSPH\" \n",
    "\t\t\t\t 3 \"MPH\" \n",
    "\t\t\t\t 4 \"PhD\" \n",
    "\t\t\t\t 5 \"SCM\") \n",
    "\t\tyline(90, lcol(red) lp(dash)) \n",
    "\t\txti(\" \") ;\n",
    "#delimit cr\n",
    "\n",
    "```"
   ]
  },
  {
   "attachments": {},
   "cell_type": "markdown",
   "metadata": {},
   "source": [
    "### De-identified grades"
   ]
  },
  {
   "attachments": {},
   "cell_type": "markdown",
   "metadata": {},
   "source": [
    "![](grades.2022.jpg)"
   ]
  },
  {
   "attachments": {},
   "cell_type": "markdown",
   "metadata": {},
   "source": [
    "### Conclusion?\n",
    "\n",
    "The odds of an A is 1/4. So don't worry much about your final grade!"
   ]
  },
  {
   "attachments": {},
   "cell_type": "markdown",
   "metadata": {},
   "source": [
    "### Extra credit challenge (1.5 points max)\n",
    "\n",
    "The following code introduces a random disturbance to the data in the screenshot above: `grade_34060071_general.dta`. \n",
    "Use the outputed [data file](https://raw.githubusercontent.com/jhustata/book/main/grade_34060071_general.txt) to reproduce the fancy plot of 2021/2022 grades\n",
    "\n",
    "```stata\n",
    "\n",
    "#delimit cr\n",
    "quietly {\n",
    "\t\n",
    "\tif 1 {\n",
    "\t\t\n",
    "\t\tset seed 340600\n",
    "\t\t\n",
    "\t\tglobal filename grade_34060071_general\n",
    "\t\tglobal vars final y1m y1lb y1ub\n",
    "\t\t\t\n",
    "\t}\n",
    "\t\n",
    "\tif 2 {\n",
    "\t\t\n",
    "\t\tuse ${filename}.dta, clear \t\t\n",
    "\t\t\n",
    "\t}\n",
    "\t\n",
    "\tif 3 {\n",
    "\t\t\n",
    "        g disturbance=rnormal(0,3)\t\n",
    "\t\t \n",
    "\t}\n",
    "\t\n",
    "\tif 4 { \n",
    "\t\t\n",
    "\t\tforvalues i=1/4 {\n",
    "\t\t\t\n",
    "\t\t\tlocal vars: di word(\"$vars\",`i')\n",
    "\t\t\treplace `vars' = `vars' + disturbance \n",
    "\t\t\t\n",
    "\t\t}\n",
    "\t\t\n",
    "\t\t\n",
    "\t}\n",
    "\t\n",
    "\tif 5 {\n",
    "\t\t\n",
    "\t\tdrop disturbance \n",
    "\t\texport delimited using \"${filename}.txt\", replace\n",
    "\t\t\n",
    "\t}\n",
    "}\n",
    "\n",
    "```"
   ]
  }
 ],
 "metadata": {
  "kernelspec": {
   "display_name": "Python 3",
   "language": "python",
   "name": "python3"
  },
  "language_info": {
   "codemirror_mode": {
    "name": "ipython",
    "version": 3
   },
   "file_extension": ".py",
   "mimetype": "text/x-python",
   "name": "python",
   "nbconvert_exporter": "python",
   "pygments_lexer": "ipython3",
   "version": "3.10.9"
  },
  "widgets": {
   "application/vnd.jupyter.widget-state+json": {
    "state": {},
    "version_major": 2,
    "version_minor": 0
   }
  }
 },
 "nbformat": 4,
 "nbformat_minor": 4
}