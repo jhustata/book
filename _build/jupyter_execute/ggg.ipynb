{
 "cells": [
  {
   "attachments": {},
   "cell_type": "markdown",
   "metadata": {},
   "source": [
    "# by"
   ]
  },
  {
   "attachments": {},
   "cell_type": "markdown",
   "metadata": {},
   "source": [
    "In today's session we'll use [transplants.dta](transplants.dta) to demonstrate a few useful commands that we will use quite frequently."
   ]
  },
  {
   "attachments": {},
   "cell_type": "markdown",
   "metadata": {},
   "source": [
    "```Stata\n",
    "\n",
    "use transplants, clear\n",
    "\n",
    "```\n",
    "\n",
    "What if we want a variable of the total number of records in each ABO blood type?\n",
    "\n",
    "```Stata\n",
    "\n",
    "bys abo: gen cat_n = _N\n",
    "```\n",
    "\n",
    "So what did this code achieve?\n",
    "\n",
    "```Stata\n",
    "\n",
    "tab cat_n\n",
    "```\n",
    "\n",
    "Let's add labels to the groups:\n",
    "\n",
    "```Stata\n",
    "#delimit ;\n",
    "lab define abo_lab\n",
    "   0 \"0\"\n",
    "   1 \"A\"\n",
    "   2 \"B\"\n",
    "   3 \"AB\"\n",
    ";\n",
    "#delimit cr\n",
    "\n",
    "lab values abo abo_lab\n",
    "```\n",
    "\n",
    "Now lets tabulate once again:\n",
    "\n",
    "```Stata\n",
    "\n",
    "tab cat_n\n",
    "```\n",
    "\n",
    "Ok. Do you remember these commands?\n",
    "\n",
    "```Stata\n",
    "di c(N)\n",
    "\n",
    "di c(k)\n",
    "```\n",
    "\n",
    "Lets create a `disturbance` to our setup to learn a few additional commands and their value to us:\n",
    "\n",
    "```Stata\n",
    "\n",
    "qui do https://raw.githubusercontent.com/jhustata/book/main/sample-keep.ado\n",
    "```\n",
    "\n",
    "Is that a new command? Or are you already familiar with it? How about this:\n",
    "\n",
    "```Stata\n",
    "samplekeep\n",
    "```\n",
    "\n",
    "\n"
   ]
  }
 ],
 "metadata": {
  "kernelspec": {
   "display_name": "Python 3",
   "language": "python",
   "name": "python3"
  },
  "language_info": {
   "codemirror_mode": {
    "name": "ipython",
    "version": 3
   },
   "file_extension": ".py",
   "mimetype": "text/x-python",
   "name": "python",
   "nbconvert_exporter": "python",
   "pygments_lexer": "ipython3",
   "version": "3.10.9"
  }
 },
 "nbformat": 4,
 "nbformat_minor": 2
}