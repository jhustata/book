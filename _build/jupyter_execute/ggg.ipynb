{
 "cells": [
  {
   "attachments": {},
   "cell_type": "markdown",
   "metadata": {},
   "source": [
    "# by"
   ]
  },
  {
   "attachments": {},
   "cell_type": "markdown",
   "metadata": {},
   "source": [
    "In today's session we'll use [transplants.dta](transplants.dta) to demonstrate a few useful commands that we will use quite frequently."
   ]
  },
  {
   "attachments": {},
   "cell_type": "markdown",
   "metadata": {},
   "source": [
    "```Stata\n",
    "\n",
    "use transplants, clear\n",
    "\n",
    "```\n",
    "\n",
    "What if we want a variable of the total number of records in each ABO blood type?\n",
    "\n",
    "```Stata\n",
    "\n",
    "bys abo: gen cat_n = _N\n",
    "```\n",
    "\n",
    "So what did this code achieve?\n",
    "\n",
    "```Stata\n",
    "\n",
    "tab cat_n\n",
    "```\n",
    "\n",
    "Let's add labels to the groups:\n",
    "\n",
    "\n",
    "\n"
   ]
  }
 ],
 "metadata": {
  "kernelspec": {
   "display_name": "Python 3",
   "language": "python",
   "name": "python3"
  },
  "language_info": {
   "codemirror_mode": {
    "name": "ipython",
    "version": 3
   },
   "file_extension": ".py",
   "mimetype": "text/x-python",
   "name": "python",
   "nbconvert_exporter": "python",
   "pygments_lexer": "ipython3",
   "version": "3.10.9"
  }
 },
 "nbformat": 4,
 "nbformat_minor": 2
}