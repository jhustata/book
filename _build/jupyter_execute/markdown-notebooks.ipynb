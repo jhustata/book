{
 "cells": [
  {
   "cell_type": "markdown",
   "id": "b04b0cd0",
   "metadata": {},
   "source": [
    "# Markdown vs. Powerpoint\n",
    "\n",
    "Trying to wean myself from .PPT, which is suboptimal for a programming class! This, for instance, is **much** trickier to render in .PPT"
   ]
  },
  {
   "cell_type": "code",
   "execution_count": 1,
   "id": "24b87427",
   "metadata": {},
   "outputs": [
    {
     "ename": "SyntaxError",
     "evalue": "invalid decimal literal (4275544640.py, line 12)",
     "output_type": "error",
     "traceback": [
      "\u001b[0;36m  Cell \u001b[0;32mIn[1], line 12\u001b[0;36m\u001b[0m\n\u001b[0;31m    global url https://wwwn.cdc.gov/nchs/data/nhanes3/1a/\u001b[0m\n\u001b[0m                                                      ^\u001b[0m\n\u001b[0;31mSyntaxError\u001b[0m\u001b[0;31m:\u001b[0m invalid decimal literal\n"
     ]
    }
   ],
   "source": [
    "qui {\n",
    "    \n",
    "    if 1 { //settings,logfile,macros\n",
    "        \n",
    "        cls\n",
    "        clear \n",
    "        \n",
    "        capture log close \n",
    "        log using adultlab.log, replace \n",
    "        \n",
    "        \n",
    "        global url https://wwwn.cdc.gov/nchs/data/nhanes3/1a/ \n",
    "        global sasprogram adult.sas\n",
    "        global datafile adult.dat\n",
    "        \n",
    "    }\n",
    "    \n",
    "    if 2 { //import adult.sas read-in commands\n",
    "        \n",
    "        import delimited ${url}$sasprogram\n",
    "\n",
    "    }\n",
    "    \n",
    "    if 3 { //output adult.do file read-in commands  \n",
    "            \n",
    "        preserve \n",
    "           keep in 1387/2624\n",
    "           g id=_n+2\n",
    "           insobs 1\n",
    "           replace v1=\"#delimit ;\" in `c(N)'\n",
    "           insobs 1\n",
    "           replace v1=\"infix\" in `c(N)'\n",
    "           insobs 1\n",
    "           replace v1=\"using ${url}$datafile ;\" in `c(N)'\n",
    "           insobs 1\n",
    "           replace v1=\"#delimit cr\" in `c(N)'\n",
    "           replace id=1 if v1==\"#delimit ;\"\n",
    "           replace id=2 if v1==\"infix\"\n",
    "           replace id=`c(N)' if v1==\"using ${url}$datafile ;\"\n",
    "           replace id=id-1 if v1==\"using ${url}$datafile ;\"\n",
    "           replace id=`c(N)' if v1==\"#delimit cr\"\n",
    "           sort id\n",
    "           drop id\n",
    "           tempfile vars\n",
    "           rename v1 concat \n",
    "           format concat %-20s\n",
    "           keep concat \n",
    "           save `vars'\n",
    "        restore \n",
    "        \n",
    "        keep in 2627/3865\n",
    "        split v1, p(\" = \")\n",
    "        gen concat=\"lab var \"+v11+\" \"+v12\n",
    "        keep concat \n",
    "        format concat %-20s\n",
    "        drop in `c(N)'\n",
    "        tempfile labs\n",
    "        save `labs'\n",
    "        \n",
    "        use `vars', clear\n",
    "        append using `labs'\n",
    "        outfile using \"adult.do\", noquote replace\n",
    "        \n",
    "        log close \n",
    "        \n",
    "    }\n",
    "    \n",
    "}\n"
   ]
  },
  {
   "cell_type": "markdown",
   "id": "9340ae58",
   "metadata": {},
   "source": [
    "```{seealso}\n",
    "Stata's help command\n",
    "\n",
    "ChatGPT, when available\n",
    "```\n",
    "\n",
    "## More come..\n",
    "\n",
    "```\n",
    "# but for now:\n",
    "\n",
    "type `pwd' into your stata command window\n",
    "```"
   ]
  }
 ],
 "metadata": {
  "jupytext": {
   "formats": "md:myst",
   "text_representation": {
    "extension": ".md",
    "format_name": "myst",
    "format_version": 0.13,
    "jupytext_version": "1.11.5"
   }
  },
  "kernelspec": {
   "display_name": "Python 3",
   "language": "python",
   "name": "python3"
  },
  "language_info": {
   "codemirror_mode": {
    "name": "ipython",
    "version": 3
   },
   "file_extension": ".py",
   "mimetype": "text/x-python",
   "name": "python",
   "nbconvert_exporter": "python",
   "pygments_lexer": "ipython3",
   "version": "3.10.9"
  },
  "source_map": [
   13,
   19,
   89
  ]
 },
 "nbformat": 4,
 "nbformat_minor": 5
}