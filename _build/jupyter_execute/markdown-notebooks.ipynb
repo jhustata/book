{
 "cells": [
  {
   "cell_type": "markdown",
   "id": "5916f345",
   "metadata": {},
   "source": [
    "# Markdown vs. Powerpoint\n",
    "\n",
    "Trying to wean myself from .PPT, which is suboptimal for a programming class! This, for instance, is much trickier render in .PPT"
   ]
  },
  {
   "cell_type": "code",
   "execution_count": 1,
   "id": "ee1f41dc",
   "metadata": {},
   "outputs": [
    {
     "ename": "SyntaxError",
     "evalue": "invalid syntax (2038658495.py, line 1)",
     "output_type": "error",
     "traceback": [
      "\u001b[0;36m  Cell \u001b[0;32mIn[1], line 1\u001b[0;36m\u001b[0m\n\u001b[0;31m    qui {\u001b[0m\n\u001b[0m        ^\u001b[0m\n\u001b[0;31mSyntaxError\u001b[0m\u001b[0;31m:\u001b[0m invalid syntax\n"
     ]
    }
   ],
   "source": [
    "qui {\n",
    "    \n",
    "    if 1 { //settings,logfile,macros\n",
    "    \n",
    "        cls \n",
    "        clear \n",
    "        \n",
    "        capture log close \n",
    "        log using session0.log, replace \n",
    "        \n",
    "        global url https://wwwn.cdc.gov/Nchs/Nhanes/1999-2000/\n",
    "        global datafile DEMO.XPT \n",
    "        \n",
    "        \n",
    "    }\n",
    "    \n",
    "    if 2 { //import datafile\n",
    "        \n",
    "        import sasxport5 \"${url}${datafile}\", clear\n",
    "        noi di \"no of vars `c(k)' x \" \" no of obs \" _N\n",
    "    }\n",
    "    \n",
    "}"
   ]
  },
  {
   "cell_type": "markdown",
   "id": "f68ba4d3",
   "metadata": {},
   "source": [
    "```{seealso}\n",
    "Stata's help command\n",
    "ChatGPT, when available\n",
    "```\n",
    "\n",
    "## More come..\n",
    "\n",
    "```\n",
    "type `pwd' into your stata command window\n",
    "```"
   ]
  }
 ],
 "metadata": {
  "jupytext": {
   "formats": "md:myst",
   "text_representation": {
    "extension": ".md",
    "format_name": "myst",
    "format_version": 0.13,
    "jupytext_version": "1.11.5"
   }
  },
  "kernelspec": {
   "display_name": "Python 3",
   "language": "python",
   "name": "python3"
  },
  "language_info": {
   "codemirror_mode": {
    "name": "ipython",
    "version": 3
   },
   "file_extension": ".py",
   "mimetype": "text/x-python",
   "name": "python",
   "nbconvert_exporter": "python",
   "pygments_lexer": "ipython3",
   "version": "3.10.9"
  },
  "source_map": [
   13,
   19,
   43
  ]
 },
 "nbformat": 4,
 "nbformat_minor": 5
}