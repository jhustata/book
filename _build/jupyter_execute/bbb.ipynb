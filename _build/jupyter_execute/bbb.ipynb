{
 "cells": [
  {
   "attachments": {},
   "cell_type": "markdown",
   "metadata": {},
   "source": [
    "# Whet your appetite!"
   ]
  },
  {
   "cell_type": "code",
   "execution_count": 1,
   "metadata": {},
   "outputs": [],
   "source": [
    "# warnings are for python... irrelevant to Stata\n",
    "\n",
    "import warnings\n",
    "warnings.filterwarnings('ignore')"
   ]
  },
  {
   "cell_type": "code",
   "execution_count": 2,
   "metadata": {},
   "outputs": [
    {
     "ename": "SyntaxError",
     "evalue": "invalid syntax (2498905410.py, line 3)",
     "output_type": "error",
     "traceback": [
      "\u001b[0;36m  Cell \u001b[0;32mIn[2], line 3\u001b[0;36m\u001b[0m\n\u001b[0;31m    qui {\u001b[0m\n\u001b[0m        ^\u001b[0m\n\u001b[0;31mSyntaxError\u001b[0m\u001b[0;31m:\u001b[0m invalid syntax\n"
     ]
    }
   ],
   "source": [
    "# Session 0\n",
    "\n",
    "qui {\n",
    "\t\n",
    "\tif 1 { //settings,logfile,macros\n",
    "\t\n",
    "\t    cls \n",
    "\t\tclear \n",
    "\t\t\n",
    "\t\tcapture log close \n",
    "\t\tlog using session0.log, replace \n",
    "\t\t\n",
    "\t\tglobal url https://wwwn.cdc.gov/Nchs/Nhanes/1999-2000/\n",
    "\t\tglobal datafile DEMO.XPT \n",
    "\t\t\n",
    "\t\t\n",
    "\t}\n",
    "\t\n",
    "\tif 2 { //import datafile\n",
    "\t\t\n",
    "\t\timport sasxport5 \"${url}${datafile}\", clear\n",
    "\t\tnoi di \"no of vars `c(k)' x \" \" no of obs \" _N\n",
    "\t}\n",
    "\t\n",
    "}\n",
    "\n",
    "\n"
   ]
  },
  {
   "attachments": {},
   "cell_type": "markdown",
   "metadata": {},
   "source": [
    "### Should we annotate our code? What if chatGPT can do that on demand?"
   ]
  },
  {
   "attachments": {},
   "cell_type": "markdown",
   "metadata": {},
   "source": [
    "![](jhustata.chatGPT.jpg)"
   ]
  },
  {
   "attachments": {},
   "cell_type": "markdown",
   "metadata": {},
   "source": [
    "### Watched Session 0?"
   ]
  },
  {
   "attachments": {},
   "cell_type": "markdown",
   "metadata": {},
   "source": [
    "Here's the [Video](https://www.dropbox.com/s/64520h7z60zigo7/session0.mp4?raw=1)!\n",
    "\n",
    "Let's replace this with a .GIF\n"
   ]
  }
 ],
 "metadata": {
  "kernelspec": {
   "display_name": "Python 3",
   "language": "python",
   "name": "python3"
  },
  "language_info": {
   "codemirror_mode": {
    "name": "ipython",
    "version": 3
   },
   "file_extension": ".py",
   "mimetype": "text/x-python",
   "name": "python",
   "nbconvert_exporter": "python",
   "pygments_lexer": "ipython3",
   "version": "3.10.9"
  },
  "widgets": {
   "application/vnd.jupyter.widget-state+json": {
    "state": {},
    "version_major": 2,
    "version_minor": 0
   }
  }
 },
 "nbformat": 4,
 "nbformat_minor": 4
}