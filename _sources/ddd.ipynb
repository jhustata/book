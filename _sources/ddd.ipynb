{
 "cells": [
  {
   "attachments": {},
   "cell_type": "markdown",
   "metadata": {},
   "source": [
    "# Grading Homeworks"
   ]
  },
  {
   "attachments": {},
   "cell_type": "markdown",
   "metadata": {},
   "source": [
    "### Statistical Distribution: 2021/2022\n",
    "\n",
    "![](grade_34060071_general.png)"
   ]
  },
  {
   "attachments": {},
   "cell_type": "markdown",
   "metadata": {},
   "source": [
    "#### Stata code to display 2021/2022 performance"
   ]
  },
  {
   "attachments": {},
   "cell_type": "markdown",
   "metadata": {},
   "source": [
    "```stata\n",
    "\n",
    "# Extrapoints for someone to render this in Python with interactive graphics!\n",
    "\n",
    "#delimit ;\n",
    "twoway \n",
    "    scatter  \n",
    "\t     final degree , \n",
    "\t         col(blue) \n",
    "\t\t\t mcolor(%20) \n",
    "\t\t\t jitter(3) || \n",
    "\trcap \n",
    "\t     y1lb y1ub degree, \n",
    "\t\t     col(blue) ||   \n",
    "\tdot  \n",
    "\t     y1m degree, \n",
    "\t\t col(blue) \n",
    "\t\t msize(2)  \n",
    "\t\t\tlegend(off ) \n",
    "\t\t\txlab(1 \"MHS\" \n",
    "\t\t\t     2 \"MSPH\" \n",
    "\t\t\t\t 3 \"MPH\" \n",
    "\t\t\t\t 4 \"PhD\" \n",
    "\t\t\t\t 5 \"SCM\") \n",
    "\t\tyline(90, lcol(red) lp(dash)) \n",
    "\t\txti(\" \") ;\n",
    "#delimit cr\n",
    "\n",
    "```"
   ]
  },
  {
   "attachments": {},
   "cell_type": "markdown",
   "metadata": {},
   "source": [
    "### Data structure on which the above code run"
   ]
  },
  {
   "attachments": {},
   "cell_type": "markdown",
   "metadata": {},
   "source": [
    "![](grades.2022.jpg)"
   ]
  },
  {
   "attachments": {},
   "cell_type": "markdown",
   "metadata": {},
   "source": [
    "### What to expect??\n",
    "\n",
    "You'll most likely get an A!"
   ]
  }
 ],
 "metadata": {
  "kernelspec": {
   "display_name": "Python 3",
   "language": "python",
   "name": "python3"
  },
  "language_info": {
   "codemirror_mode": {
    "name": "ipython",
    "version": 3
   },
   "file_extension": ".py",
   "mimetype": "text/x-python",
   "name": "python",
   "nbconvert_exporter": "python",
   "pygments_lexer": "ipython3",
   "version": "3.8.0"
  },
  "widgets": {
   "application/vnd.jupyter.widget-state+json": {
    "state": {},
    "version_major": 2,
    "version_minor": 0
   }
  }
 },
 "nbformat": 4,
 "nbformat_minor": 4
}
